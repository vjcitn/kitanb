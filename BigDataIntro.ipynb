{
 "cells": [
  {
   "cell_type": "markdown",
   "metadata": {},
   "source": [
    "# Some bigdata examples with Kita Lab/Bioconductor\n",
    "\n",
    "Bioconductor 3.8 includes facilities for interfacing with large data through\n",
    "SummarizedExperiments using HDF Scalable Data Service to store and query assay quantifications.\n",
    "\n",
    "# The 10x 1.3 million neuron dataset\n",
    "\n",
    "## The annotation shell in a SummarizedExperiment\n",
    "\n",
    "We start with an archived SummarizedExperiment that lacks assay data.  We placed this in Bioconductors'\n",
    "centralized ExperimentHub."
   ]
  },
  {
   "cell_type": "code",
   "execution_count": null,
   "metadata": {},
   "outputs": [],
   "source": [
    "ehub = ExperimentHub::ExperimentHub()\n",
    "tag = names(AnnotationHub::query(ehub, \"full_1Mneurons\"))\n",
    "tenx = ehub[[tag[1]]]"
   ]
  },
  {
   "cell_type": "code",
   "execution_count": null,
   "metadata": {},
   "outputs": [],
   "source": [
    "tenx"
   ]
  },
  {
   "cell_type": "markdown",
   "metadata": {},
   "source": [
    "## A DelayedArray instance for the matrix of counts\n",
    "\n",
    "We need the very latest rhdf5client package."
   ]
  },
  {
   "cell_type": "code",
   "execution_count": null,
   "metadata": {},
   "outputs": [],
   "source": [
    "ds = rhdf5client::H5S_Array(endpoint = rhdf5client::URL_hsds(), \n",
    "            filepath = \"/shared/bioconductor/tenx_full.h5\", host = \"newassay001\")\n",
    "ds"
   ]
  },
  {
   "cell_type": "markdown",
   "metadata": {},
   "source": [
    "## Bind the assay quantifications to the SummarizedExperiment"
   ]
  },
  {
   "cell_type": "code",
   "execution_count": null,
   "metadata": {},
   "outputs": [],
   "source": [
    "SummarizedExperiment::assays(tenx) = S4Vectors::SimpleList(counts=ds)"
   ]
  },
  {
   "cell_type": "code",
   "execution_count": null,
   "metadata": {},
   "outputs": [],
   "source": [
    "assay(tenx)"
   ]
  },
  {
   "cell_type": "markdown",
   "metadata": {},
   "source": [
    "Note that the row and column names are available after this assignment."
   ]
  },
  {
   "cell_type": "markdown",
   "metadata": {},
   "source": [
    "## Querying a gene set\n",
    "\n",
    "Tasic et al. (Nature Neuroscience 19(2):335-346, 2016) define modules of the mouse visual cortex.\n",
    "One group of genes, cluster f01, is defined in Supplementary table S8.  We'll assemble summary statistics on these genes in the first  10000 cells in the array."
   ]
  },
  {
   "cell_type": "code",
   "execution_count": null,
   "metadata": {},
   "outputs": [],
   "source": [
    "tasic1 = c(\"Crispld2\", \"Cxcl14\", \"Tpm2\", \"Itih5\", \"Cox6a2\")"
   ]
  },
  {
   "cell_type": "code",
   "execution_count": null,
   "metadata": {},
   "outputs": [],
   "source": [
    "selTenx = tenx[which(rowData(tenx)$symbol %in% tasic1),]\n",
    "selTenx"
   ]
  },
  {
   "cell_type": "code",
   "execution_count": null,
   "metadata": {},
   "outputs": [],
   "source": [
    "apply(assay(selTenx[,1:10000]),1,function(x)summary(as.numeric(x)))"
   ]
  },
  {
   "cell_type": "markdown",
   "metadata": {},
   "source": [
    "# A compendium of (most) human transcriptomes archived in NCBI SRA\n",
    "\n",
    "## A view of metadata\n",
    "\n",
    "We'll use the SRAdbV2 package of Sean Davis to get access to metadata and\n",
    "accession numbers for samples in NCBI SRA.  See https://api-omicidx.cancerdatasci.org/sra/1.0/ui/"
   ]
  },
  {
   "cell_type": "code",
   "execution_count": null,
   "metadata": {},
   "outputs": [],
   "source": [
    "library(devtools)\n",
    "install_github(\"seandavi/SRAdbV2\")"
   ]
  },
  {
   "cell_type": "code",
   "execution_count": null,
   "metadata": {},
   "outputs": [],
   "source": [
    "library(SRAdbV2)"
   ]
  },
  {
   "cell_type": "code",
   "execution_count": null,
   "metadata": {},
   "outputs": [],
   "source": [
    "idx = Omicidx$new()\n",
    "sr = idx$search(q = \"sample_taxon_id: 9606 AND experiment_library_source: transcriptomic\")\n",
    "sr$count()"
   ]
  },
  {
   "cell_type": "code",
   "execution_count": null,
   "metadata": {},
   "outputs": [],
   "source": [
    "scr1 = sr$scroll()\n",
    "lk1 = scr1$yield()"
   ]
  },
  {
   "cell_type": "code",
   "execution_count": null,
   "metadata": {},
   "outputs": [],
   "source": [
    "head(unique(lk1$study_title))"
   ]
  },
  {
   "cell_type": "markdown",
   "metadata": {},
   "source": [
    "## Selecting metadata on a study of interest\n",
    "\n",
    "We'll obtain metadata on the N=85 (79+7-1, 1 ad hoc missing record) in the fourth study above,\n",
    "which corresponds to PMID 27093186."
   ]
  },
  {
   "cell_type": "code",
   "execution_count": null,
   "metadata": {},
   "outputs": [],
   "source": [
    "sr2 = idx$search(q = 'study_title: \"small cell lung cancer (sclc)\"')"
   ]
  },
  {
   "cell_type": "code",
   "execution_count": null,
   "metadata": {},
   "outputs": [],
   "source": [
    "sr2$count()"
   ]
  },
  {
   "cell_type": "code",
   "execution_count": null,
   "metadata": {},
   "outputs": [],
   "source": [
    "sclcMeta = as.data.frame(sr2$scroll()$collate()) # not tibble"
   ]
  },
  {
   "cell_type": "code",
   "execution_count": null,
   "metadata": {},
   "outputs": [],
   "source": [
    "dim(sclcMeta)"
   ]
  },
  {
   "cell_type": "markdown",
   "metadata": {},
   "source": [
    "## Acquiring the human transcriptome compendium RESTful SummarizedExperiment\n",
    "\n",
    "Sean Davis of NCI has created bigrna.cancerdatasci.org to archive salmon quantifications\n",
    "of all human RNA-seq data in NCBI SRA.  We have harvested this using Bioconductor tximport to obtain\n",
    "the gene-level quantifications for 181134 RNA-seq studies.  The numerical data are in HSDS and\n",
    "can be accessed using the htxcomp package as noted here."
   ]
  },
  {
   "cell_type": "code",
   "execution_count": null,
   "metadata": {},
   "outputs": [],
   "source": [
    "library(devtools)\n",
    "Sys.setenv(TAR=\"/bin/tar\")\n",
    "install_github(\"vjcitn/htxcomp\")"
   ]
  },
  {
   "cell_type": "code",
   "execution_count": null,
   "metadata": {},
   "outputs": [],
   "source": [
    "library(htxcomp)"
   ]
  },
  {
   "cell_type": "code",
   "execution_count": null,
   "metadata": {},
   "outputs": [],
   "source": [
    "htx = loadHtxcomp()"
   ]
  },
  {
   "cell_type": "code",
   "execution_count": null,
   "metadata": {},
   "outputs": [],
   "source": [
    "htx"
   ]
  },
  {
   "cell_type": "markdown",
   "metadata": {},
   "source": [
    "We use standard syntax for SummarizedExperiments to (lazily) confine the assay\n",
    "and metadata to those in the SCLC experiments"
   ]
  },
  {
   "cell_type": "code",
   "execution_count": null,
   "metadata": {},
   "outputs": [],
   "source": [
    "sclcES = htx[, intersect(sclcMeta$experiment_accession, colnames(htx))] # one missing!\n",
    "sclcES"
   ]
  },
  {
   "cell_type": "code",
   "execution_count": null,
   "metadata": {},
   "outputs": [],
   "source": [
    "assay(sclcES[1:4,1:4])"
   ]
  },
  {
   "cell_type": "markdown",
   "metadata": {},
   "source": [
    "Here we build up the 'colData' component of the SummarizedExperiment."
   ]
  },
  {
   "cell_type": "code",
   "execution_count": null,
   "metadata": {},
   "outputs": [],
   "source": [
    "rownames(sclcMeta) = sclcMeta$experiment_accession"
   ]
  },
  {
   "cell_type": "code",
   "execution_count": null,
   "metadata": {},
   "outputs": [],
   "source": [
    "colData(sclcES) = S4Vectors::DataFrame(sclcMeta[colnames(sclcES),])"
   ]
  },
  {
   "cell_type": "code",
   "execution_count": null,
   "metadata": {},
   "outputs": [],
   "source": [
    "sclcES"
   ]
  },
  {
   "cell_type": "markdown",
   "metadata": {},
   "source": [
    "`sclcMeta` has a complex structure, it is not a flat table.  We extract sample type\n",
    "information using sapply."
   ]
  },
  {
   "cell_type": "code",
   "execution_count": null,
   "metadata": {},
   "outputs": [],
   "source": [
    "sclcES$samptype = sapply(colData(sclcES)$sample_attributes, function(x)x[1,2])"
   ]
  },
  {
   "cell_type": "code",
   "execution_count": null,
   "metadata": {},
   "outputs": [],
   "source": [
    "table(sclcES$samptype)"
   ]
  },
  {
   "cell_type": "markdown",
   "metadata": {},
   "source": [
    "Finally, we find the row for gene SRSF1 and compare its expression between normal and tumor samples."
   ]
  },
  {
   "cell_type": "code",
   "execution_count": null,
   "metadata": {},
   "outputs": [],
   "source": [
    "grep(\"ENSG00000136450\", rownames(sclcES)) # SRSF1"
   ]
  },
  {
   "cell_type": "code",
   "execution_count": null,
   "metadata": {},
   "outputs": [],
   "source": [
    "boxplot(split(as.numeric(assay(sclcES[7284,])), sclcES$samptype))"
   ]
  },
  {
   "cell_type": "code",
   "execution_count": null,
   "metadata": {},
   "outputs": [],
   "source": []
  }
 ],
 "metadata": {
  "kernelspec": {
   "display_name": "R",
   "language": "R",
   "name": "ir"
  },
  "language_info": {
   "codemirror_mode": "r",
   "file_extension": ".r",
   "mimetype": "text/x-r-source",
   "name": "R",
   "pygments_lexer": "r",
   "version": "3.5.0"
  }
 },
 "nbformat": 4,
 "nbformat_minor": 2
 }
